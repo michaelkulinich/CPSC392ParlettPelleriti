{
 "cells": [
  {
   "cell_type": "code",
   "execution_count": null,
   "metadata": {},
   "outputs": [],
   "source": [
    "import warnings\n",
    "warnings.filterwarnings('ignore')\n",
    "\n",
    "\n",
    "import pandas as pd\n",
    "import numpy as np\n",
    "from plotnine import *\n",
    "\n",
    "%matplotlib inline"
   ]
  },
  {
   "cell_type": "markdown",
   "metadata": {},
   "source": [
    "## 1. In words, describe how is the conditional probability P(vegetarian | dog owner) is theoretically different from the regular probability P(vegetarian)?"
   ]
  },
  {
   "cell_type": "markdown",
   "metadata": {},
   "source": [
    "### The conditional probability is different because it is asking the probability of a person being a vegetarian if they are a dog owner. The sample size is different and is a "
   ]
  },
  {
   "cell_type": "markdown",
   "metadata": {},
   "source": [
    "## 2. Using the counts listed below, what is P(vegetarian)? P(vegetarian | dog owner)?\n",
    "\n",
    "|            | Dog | No Dog |\n",
    "|------------|-----|--------|\n",
    "| Vegetarian | 50  | 100    |\n",
    "| Carnivore  | 75  | 97     |\n"
   ]
  },
  {
   "cell_type": "markdown",
   "metadata": {},
   "source": [
    "### YOUR ANSWER HERE ###"
   ]
  },
  {
   "cell_type": "markdown",
   "metadata": {},
   "source": [
    "## 3. Probabilities can only be between 0 and 1, like the probability of getting heads in a coin toss. If we took the odds of getting a heads (p(heads)/p(tails)) what range of values can the odds take?\n",
    "\n",
    "Use the python code below to explore what the odds could be"
   ]
  },
  {
   "cell_type": "code",
   "execution_count": null,
   "metadata": {},
   "outputs": [],
   "source": [
    "def odds(p, test = True):\n",
    "    if p < 0 or p > 1:\n",
    "        return(\"That's not a probability...\")\n",
    "    odds = p/(1-p)\n",
    "    if test:\n",
    "        print(\"The odds are \" + str(odds) + \".\")\n",
    "    return(odds)\n"
   ]
  },
  {
   "cell_type": "code",
   "execution_count": null,
   "metadata": {},
   "outputs": [],
   "source": [
    "# the lowest a probability\n",
    "odds(0)"
   ]
  },
  {
   "cell_type": "code",
   "execution_count": null,
   "metadata": {},
   "outputs": [],
   "source": [
    "# the highest a probability can be is 1, but for math reasons, let's go with 0.9999999999999999\n",
    "odds(0.9999999999999999)"
   ]
  },
  {
   "cell_type": "code",
   "execution_count": null,
   "metadata": {},
   "outputs": [],
   "source": [
    "# look at a RANGE of probabilities and plot it\n",
    "\n",
    "probabilities = np.linspace(start=0, stop=0.999, num=1000)\n",
    "print(probabilities[1:10])\n",
    "\n",
    "p_odds = [odds(p, False) for p in probabilities]\n",
    "print(p_odds[1:10])\n",
    "\n",
    "p_dataframe = pd.DataFrame({\"p\": probabilities, \"odds\": p_odds})"
   ]
  },
  {
   "cell_type": "code",
   "execution_count": null,
   "metadata": {},
   "outputs": [],
   "source": [
    "# plot it\n",
    "\n",
    "(ggplot(p_dataframe, aes(x = \"p\", y = \"odds\")) + geom_line() + theme_minimal())"
   ]
  },
  {
   "cell_type": "code",
   "execution_count": null,
   "metadata": {},
   "outputs": [],
   "source": [
    "nearOne = p_dataframe[\"p\"] > 0.975\n",
    "(ggplot(p_dataframe.loc[nearOne,], aes(x = \"p\", y = \"odds\")) + geom_line() + theme_minimal())"
   ]
  },
  {
   "cell_type": "code",
   "execution_count": null,
   "metadata": {},
   "outputs": [],
   "source": [
    "nearZero = p_dataframe[\"p\"]< 0.1\n",
    "(ggplot(p_dataframe.loc[nearZero,], aes(x = \"p\", y = \"odds\")) + geom_line() + theme_minimal())"
   ]
  },
  {
   "cell_type": "markdown",
   "metadata": {},
   "source": [
    "### YOUR ANSWER HERE ### \n",
    "\n",
    "(What is the range of values odds can take?)"
   ]
  },
  {
   "cell_type": "markdown",
   "metadata": {},
   "source": [
    "## 3. What are the odds when an event is equally likely to happen as not happen? What is the probability of an event when it is equally likely to happen as not happen?"
   ]
  },
  {
   "cell_type": "markdown",
   "metadata": {},
   "source": [
    "### YOUR ANSWER HERE ###"
   ]
  },
  {
   "cell_type": "markdown",
   "metadata": {},
   "source": [
    "## 4. You have data from a survey. One of the questions asks students to pick one of the following responses: Strongly Disagree, Disagree, Neutral, Agree, Strongly Agree. What data type applies here, what are your justifications for that decision? "
   ]
  },
  {
   "cell_type": "markdown",
   "metadata": {},
   "source": [
    "### YOUR ANSWER HERE ###"
   ]
  },
  {
   "cell_type": "markdown",
   "metadata": {},
   "source": [
    "## 5. The derivative is a measure of the rate of change of a function. When should the derivative of a function be 0? Use the plots generated to confirm that this is the case.\n",
    "\n",
    "set l equal to an x value for which the derivative of sin(x) should be 0 (use the first graph to visually assess where that point should be). The code will add a line to the two plots at x = l. Check that the derivative is 0 in the second plot."
   ]
  },
  {
   "cell_type": "code",
   "execution_count": null,
   "metadata": {},
   "outputs": [],
   "source": [
    "import math\n",
    "\n",
    "##############################\n",
    "l= 1.467\n",
    "##############################\n",
    "\n",
    "x = np.linspace(0,24,num = 1000)\n",
    "sin_x = np.array([math.sin(i) for i in x])\n",
    "\n",
    "\n",
    "df = pd.DataFrame({\"x\": x, \"sin(x)\": sin_x, \"sin(x)dx\": np.gradient(sin_x)})\n",
    "             \n",
    "             \n",
    "(ggplot(df, aes(x = \"x\", y = \"sin(x)\")) +\n",
    "      geom_point() +\n",
    " geom_vline(xintercept = l, color = \"red\", linetype = \"dashed\", size = 3) +\n",
    "theme_minimal() +\n",
    "labs(title = \"Sin(x)\"))\n"
   ]
  },
  {
   "cell_type": "code",
   "execution_count": null,
   "metadata": {},
   "outputs": [],
   "source": [
    "(ggplot(df, aes(x = \"x\", y = \"sin(x)dx\")) +\n",
    "      geom_point() +\n",
    "  geom_vline(xintercept = l, color = \"red\", linetype = \"dashed\", size = 3) +\n",
    "theme_minimal() +\n",
    "labs(title = \"Derivative of Sin(x)\"))"
   ]
  }
 ],
 "metadata": {
  "kernelspec": {
   "display_name": "Python 3",
   "language": "python",
   "name": "python3"
  },
  "language_info": {
   "codemirror_mode": {
    "name": "ipython",
    "version": 3
   },
   "file_extension": ".py",
   "mimetype": "text/x-python",
   "name": "python",
   "nbconvert_exporter": "python",
   "pygments_lexer": "ipython3",
   "version": "3.7.7"
  }
 },
 "nbformat": 4,
 "nbformat_minor": 4
}
