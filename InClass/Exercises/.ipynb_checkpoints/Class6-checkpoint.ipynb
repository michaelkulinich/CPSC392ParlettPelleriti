{
 "cells": [
  {
   "cell_type": "code",
   "execution_count": null,
   "metadata": {},
   "outputs": [],
   "source": [
    "import warnings\n",
    "warnings.filterwarnings('ignore')"
   ]
  },
  {
   "cell_type": "markdown",
   "metadata": {},
   "source": [
    "1. import the necessary packages\n",
    "\n",
    "2. Use heart disease data set to build a BAD graph (`\"https://raw.githubusercontent.com/cmparlettpelleriti/CPSC392ParlettPelleriti/master/Data/heart.csv\"`).\n",
    "    * have fun with it! What could you make worse? Add visual clutter? Reduce Contrast? Make it inaccessible? Make the message difficult to understand?\n",
    "    * Talk in your Breakout groups about WHY these things make the graph bad.\n",
    "\n",
    "3. Use heart disease data set to answer the question of whether people with heart disease (people with heart disease have a value of `1` for the variable `target`) have higher cholesterol than people without heart disease. Create your graph one step at a time, starting with a default `ggplot() + geom_XXX()` type of graph and build from there, adding markdown cells to explain your reasoning for making changes. Think about the principles we talked about:\n",
    "\n",
    "    * which elements do NOT support your message? Take them out (you can google ggplot/plotnine syntax to figure out how to remove or change things like text, grids, axes, legends...etc)\n",
    "    * which elements DO support your message? How can you make these more noticeable/salient?\n",
    "    * Who is your audience? How can you make your graph more inclusive and accessible?\n",
    "    \n",
    "4. Use the KC house data (`\"https://raw.githubusercontent.com/cmparlettpelleriti/CPSC392ParlettPelleriti/master/Data/kc_house_data.csv\"`) to build a clear graph that answers the question \"Is the relationship between price and square footage the same for houses with different numbers of floors?\". Create your graph one step at a time, starting with a default `ggplot() + geom_XXX()` type of graph and build from there, adding markdown cells to explain your reasoning for making changes. Again, think about the principles we talked about:\n",
    "\n",
    "    * which elements do NOT support your message? Take them out (you can google ggplot/plotnine syntax to figure out how to remove or change things like text, grids, axes, legends...etc)\n",
    "    * which elements DO support your message? How can you make these more noticeable/salient?\n",
    "    * Who is your audience? How can you make your graph more inclusive and accessible?\n",
    "    \n",
    "5. Come up with **one specific question** with your group that you want to *always* ask yourselves when making a graph to make sure it's accessible to a certain group. Draw on your own experiences (and your friends/family's experiences). For example, if you have a rare type of colorblindness, you might come up with the question \"Is my palette readable by someone with tritanomaly colorblindness?\". Think about visual impairments, cultural/group contex that not everyone shares, language barriers...etc. We'll share these with the class."
   ]
  },
  {
   "cell_type": "code",
   "execution_count": 1,
   "metadata": {},
   "outputs": [],
   "source": [
    "### YOUR CODE HERE ###"
   ]
  }
 ],
 "metadata": {
  "kernelspec": {
   "display_name": "Python 3",
   "language": "python",
   "name": "python3"
  },
  "language_info": {
   "codemirror_mode": {
    "name": "ipython",
    "version": 3
   },
   "file_extension": ".py",
   "mimetype": "text/x-python",
   "name": "python",
   "nbconvert_exporter": "python",
   "pygments_lexer": "ipython3",
   "version": "3.7.7"
  }
 },
 "nbformat": 4,
 "nbformat_minor": 4
}
