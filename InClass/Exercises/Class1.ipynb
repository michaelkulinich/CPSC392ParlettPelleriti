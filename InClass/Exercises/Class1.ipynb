{
 "cells": [
  {
   "cell_type": "code",
   "execution_count": 1,
   "metadata": {},
   "outputs": [],
   "source": [
    "import pandas as pd\n",
    "import numpy as np"
   ]
  },
  {
   "cell_type": "markdown",
   "metadata": {},
   "source": [
    "# Examples"
   ]
  },
  {
   "cell_type": "code",
   "execution_count": 4,
   "metadata": {},
   "outputs": [],
   "source": [
    "def squareMyNumber(n):\n",
    "#     square = n*n\n",
    "    return n*n\n",
    "    \n",
    "\n",
    "k = squareMyNumber(6)\n",
    "\n",
    "# If I have 6 friends, and we all bring enough treats for everyone, we'll have k treats!\n",
    "# If each treat costs $1.50, how much did we spend?\n",
    "\n",
    "spent = k * 1.5"
   ]
  },
  {
   "cell_type": "code",
   "execution_count": 6,
   "metadata": {},
   "outputs": [
    {
     "name": "stdout",
     "output_type": "stream",
     "text": [
      "It's an l!!!\n",
      "It's an l!!!\n"
     ]
    }
   ],
   "source": [
    "mySentenceIsTheBestSentence = \"You know, like a liar.\"\n",
    "\n",
    "for letter in mySentenceIsTheBestSentence:\n",
    "    if letter == \"l\":\n",
    "        print(\"It's an l!!!\")"
   ]
  },
  {
   "cell_type": "code",
   "execution_count": 24,
   "metadata": {},
   "outputs": [
    {
     "data": {
      "text/plain": [
       "' The Project Gutenberg EBook of Pride and Prejudice, by Jane Austen  This eBook is for the use of a'"
      ]
     },
     "execution_count": 24,
     "metadata": {},
     "output_type": "execute_result"
    }
   ],
   "source": [
    "with open('../../Data/prideAndPrejudice.txt', 'r') as prideAndPrejudice:\n",
    "    data = prideAndPrejudice.read().replace('\\n', ' ')\n",
    "data[1:100]"
   ]
  },
  {
   "cell_type": "code",
   "execution_count": 20,
   "metadata": {},
   "outputs": [
    {
     "name": "stdout",
     "output_type": "stream",
     "text": [
      "Chelsea gets an A+!!!\n",
      "Dan gets an A+!!!\n",
      "Craig gets an A+!!!\n",
      "Tony gets an A+!!!\n",
      "Blake gets an A+!!!\n",
      "Cynthia gets an A+!!!\n",
      "Julie gets an A+!!!\n"
     ]
    }
   ],
   "source": [
    "names = [\"Chelsea\", \"Dan\", \"Craig\", \"Tony\", \"Blake\", \"Cynthia\", \"Julie\"]\n",
    "\n",
    "for name in names:\n",
    "    print(name + \" gets an A+!!!\")"
   ]
  },
  {
   "cell_type": "code",
   "execution_count": 22,
   "metadata": {},
   "outputs": [],
   "source": [
    "mySentence = \"Can a bee be said to be or not to be an entire bee if half the bee is not a bee due to an ancient injury?\"\n",
    "\n",
    "words = mySentence"
   ]
  },
  {
   "cell_type": "code",
   "execution_count": null,
   "metadata": {},
   "outputs": [],
   "source": []
  }
 ],
 "metadata": {
  "kernelspec": {
   "display_name": "Python 3",
   "language": "python",
   "name": "python3"
  },
  "language_info": {
   "codemirror_mode": {
    "name": "ipython",
    "version": 3
   },
   "file_extension": ".py",
   "mimetype": "text/x-python",
   "name": "python",
   "nbconvert_exporter": "python",
   "pygments_lexer": "ipython3",
   "version": "3.7.7"
  }
 },
 "nbformat": 4,
 "nbformat_minor": 4
}
