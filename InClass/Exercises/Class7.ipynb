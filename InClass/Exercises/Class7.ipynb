{
 "cells": [
  {
   "cell_type": "code",
   "execution_count": null,
   "metadata": {},
   "outputs": [],
   "source": [
    "import warnings\n",
    "warnings.filterwarnings('ignore')\n",
    "\n",
    "\n",
    "import pandas as pd\n",
    "import numpy as np\n",
    "from plotnine import *\n",
    "\n",
    "from sklearn.linear_model import LinearRegression # Linear Regression Model\n",
    "from sklearn.preprocessing import StandardScaler #Z-score variables\n",
    "from sklearn.metrics import mean_squared_error, r2_score #model evaluation\n",
    "\n",
    "\n",
    "%matplotlib inline"
   ]
  },
  {
   "cell_type": "markdown",
   "metadata": {},
   "source": [
    "# 1. Simulating Data\n",
    "\n",
    "In the following code block, I'm creating FAKE data in order to demonstrate how linear regression works. You won't be tested on how to write this kind of code directly (if you ever need to write it yourself, you'll be able to look it up and ask for help) but try to see if you understand what's going on.\n",
    "\n",
    "Each time you use a np.random.XXXX function, you'll get *different* fake data, because it's randomly generated. Try it out! If you want your data to come out the SAME each time, add the line `np.random.seed(XXXX)` at the top of the next cell, where `XXXX` is any integer you want like 42, 8675309, or 1234.\n"
   ]
  },
  {
   "cell_type": "markdown",
   "metadata": {},
   "source": [
    "## 1.1 Linear Regression Data Generation"
   ]
  },
  {
   "cell_type": "code",
   "execution_count": null,
   "metadata": {},
   "outputs": [],
   "source": [
    "# set population values for Cat length\n",
    "np.random.seed(8675309)\n",
    "\n",
    "# mean cat length in cm\n",
    "mean_length_cm = 170\n",
    "\n",
    "# standard deviation of cat length in cm\n",
    "sd_length_cm = 15\n",
    "\n",
    "# number of samples\n",
    "n = 100\n",
    "\n",
    "# generate random data for cat length that follows a normal distribution\n",
    "length = np.random.normal(loc = mean_length_cm, scale = sd_length_cm, size = n)"
   ]
  },
  {
   "cell_type": "code",
   "execution_count": null,
   "metadata": {},
   "outputs": [],
   "source": [
    "# plot cat length data----\n",
    "(ggplot(pd.DataFrame({\"length\": length}),\n",
    "       aes(x = \"length\")) +\n",
    "geom_histogram(color = \"black\") + \n",
    "theme_minimal())"
   ]
  },
  {
   "cell_type": "code",
   "execution_count": null,
   "metadata": {},
   "outputs": [],
   "source": [
    "# Set TRUE relationship between cat length and cat weight----\n",
    "\n",
    "# true relationship between cat length and cat weight?\n",
    "# i.e. As length increases by 1 cm, how much do we expect weight to increase?\n",
    "true_coef = 0.04\n",
    "\n",
    "# intercept: the expected weight of a cat that is 0 cm (doesn't make sense but that's math for you)\n",
    "intercept = 0.2"
   ]
  },
  {
   "cell_type": "code",
   "execution_count": null,
   "metadata": {},
   "outputs": [],
   "source": [
    "# generate cat weights using list comprehension----\n",
    "\n",
    "weight = intercept + length*true_coef + np.random.normal(0,1,n) # weight = intercept + length*coefficient + random error"
   ]
  },
  {
   "cell_type": "code",
   "execution_count": null,
   "metadata": {},
   "outputs": [],
   "source": [
    "# plot cat weight data as a histogram----\n",
    "##############################################\n",
    "\n",
    "##############################################"
   ]
  },
  {
   "cell_type": "code",
   "execution_count": null,
   "metadata": {},
   "outputs": [],
   "source": [
    "# plot cat weight by cat length----\n",
    "##############################################\n",
    "\n",
    "##############################################"
   ]
  },
  {
   "cell_type": "markdown",
   "metadata": {},
   "source": [
    "## 1.2 Fitting a Regression Model"
   ]
  },
  {
   "cell_type": "code",
   "execution_count": null,
   "metadata": {},
   "outputs": [],
   "source": [
    "cats = pd.DataFrame({\"length\": length, \"weight\": weight})\n",
    "\n",
    "features = [\"length\"]\n",
    "X = cats[features]\n",
    "y = cats[[\"weight\"]] #if you don't have the extra brackets, y will be a series instead of an array and throw an error\n",
    "\n",
    "\n",
    "##############################################\n",
    "# run a linear regression\n",
    "lr = pass ## create a linear regression model\n",
    "\n",
    "# fit the linear regression model using X and y\n",
    "##############################################"
   ]
  },
  {
   "cell_type": "code",
   "execution_count": null,
   "metadata": {},
   "outputs": [],
   "source": [
    "# grab the coefficients from the model and store them in a data frame----\n",
    "\n",
    "coef = pd.DataFrame({\"Coef\": lr.coef_[0], \"Names\": features})\n",
    "coef = coef.append({\"Coef\": lr.intercept_[0], \"Names\": \"intercept\"}, ignore_index = True)\n",
    "coef"
   ]
  },
  {
   "cell_type": "markdown",
   "metadata": {},
   "source": [
    "The coefficient of length is 0.034702, and the intercept is 1.056641. The coefficient of length indicates that as length increases by 1 cm, we expect weight to increase by 0.035 kg.\n",
    "\n",
    "### *Question*\n",
    "\n",
    "Compare that to the TRUE population values we set above (hint: print `trueCoef` and `intercept`). How close are the numbers from *this* linear regression to the true values? What do you think will happen if we created another random sample? 100 random samples?\n",
    "\n",
    "<img src=\"https://drive.google.com/uc?export=view&id=1ghyQPx1N8dmU3MV4TrANvqNhGwnLni72\" alt=\"Q\" style=\"width: 200px;\"/>"
   ]
  },
  {
   "cell_type": "code",
   "execution_count": null,
   "metadata": {},
   "outputs": [],
   "source": [
    "### YOUR CODE HERE ###"
   ]
  },
  {
   "cell_type": "markdown",
   "metadata": {},
   "source": [
    " ### YOUR ANSWERS HERE ###"
   ]
  },
  {
   "cell_type": "markdown",
   "metadata": {},
   "source": [
    "# 2. Fitting Linear Regressions on Multiple Datasets"
   ]
  },
  {
   "cell_type": "code",
   "execution_count": null,
   "metadata": {},
   "outputs": [],
   "source": [
    "def linearRegression(n = 100, trueCoef = 0.04, intercept = 0.2, error_sd = 1):\n",
    "    \n",
    "    # mean cat length in cm\n",
    "    mean_length_cm = 170\n",
    "    # standard deviation of cat length in cm\n",
    "    sd_length_cm = 15\n",
    "    \n",
    "    # generate random data for cat length that follows a normal distribution\n",
    "    length = np.random.normal(loc = mean_length_cm, scale = sd_length_cm, size = n)\n",
    "    weight = intercept + length*true_coef + np.random.normal(0,error_sd,n)\n",
    "    # weight = intercept + length*coefficient + random error\n",
    "    \n",
    "    cats = pd.DataFrame({\"length\": length, \"weight\": weight})\n",
    "\n",
    "    features = [\"length\"]\n",
    "    X = cats[features]\n",
    "    y = cats[[\"weight\"]] #if you don't have the extra brackets, y will be a series instead of an array and throw an error\n",
    "\n",
    "    ##############################################\n",
    "    # run a linear regression\n",
    "    lr = pass\n",
    "\n",
    "    # fit the linear regression\n",
    "    \n",
    "    ##############################################\n",
    "    \n",
    " \n",
    "    \n",
    "    # grab the coefficients from the model and store them in a data frame\n",
    "    coef = pd.DataFrame({\"Coef\": lr.coef_[0], \"Names\": features})\n",
    "    coef = coef.append({\"Coef\": lr.intercept_[0], \"Names\": \"intercept\"}, ignore_index = True)\n",
    "    return({\"coef\": coef, \"data\": cats})\n",
    "    "
   ]
  },
  {
   "cell_type": "code",
   "execution_count": null,
   "metadata": {},
   "outputs": [],
   "source": [
    "#run regression simulation 500 times\n",
    "iWouldRun500Regressions = [linearRegression(n = 100, trueCoef = 0.04, intercept = 0.2) for x in range(0,500)]\n",
    "\n",
    "# grab coefficients from 500 simulations\n",
    "coef_df = pd.concat([x[\"coef\"] for x in iWouldRun500Regressions])\n",
    "\n",
    "# grab coefficients from 500 simulations\n",
    "data_df = pd.concat([x[\"data\"] for x in iWouldRun500Regressions])\n",
    "\n",
    "# number simulations 0:499\n",
    "data_df[\"simulation_no\"] = sorted(list(range(0,500))*n)\n",
    "coef_df[\"simulation_no\"] = sorted(list(range(0,500))*2)"
   ]
  },
  {
   "cell_type": "markdown",
   "metadata": {},
   "source": [
    "## 2.1 Let's Explore!\n",
    "\n",
    "Now that we've run a bunch of simulations with the SAME true coefficient and intercept (but different random samples), let's look at the results of our 500 regression models.\n",
    "\n",
    "\n",
    "First, let's just make some scatter plots to see some of the simulations. Notice how similar or different the simulations are from each other."
   ]
  },
  {
   "cell_type": "code",
   "execution_count": null,
   "metadata": {},
   "outputs": [],
   "source": [
    "n_plot = 9\n",
    "\n",
    "chosen_datasets = data_df[\"simulation_no\"] < 9\n",
    "\n",
    "(ggplot(data_df.loc[chosen_datasets], aes(x = \"length\", y = \"weight\", color = \"factor(simulation_no)\")) +\n",
    "geom_point() +\n",
    "facet_wrap(\"~simulation_no\") +\n",
    "theme_minimal() +\n",
    "labs(color = \"Simulation Number\"))"
   ]
  },
  {
   "cell_type": "markdown",
   "metadata": {},
   "source": [
    "Let's look at the coefficient values from all the linear regressions we ran."
   ]
  },
  {
   "cell_type": "code",
   "execution_count": null,
   "metadata": {},
   "outputs": [],
   "source": [
    "# plot legnth coef values and mean length coef value (red line)----\n",
    "coef_only = coef_df[\"Names\"] == \"length\"\n",
    "\n",
    "\n",
    "(ggplot(coef_df.loc[coef_only], aes(x = \"Coef\")) + \n",
    "geom_histogram(color = \"black\") +\n",
    "geom_vline(xintercept = coef_df.loc[coef_only, \"Coef\"].mean(), color = \"red\", linetype = \"dashed\", size = 2) +\n",
    "labs(title = \"Length Coefficient Values Across 500 Simulations\") +\n",
    "theme_minimal())"
   ]
  },
  {
   "cell_type": "code",
   "execution_count": null,
   "metadata": {},
   "outputs": [],
   "source": [
    "print(\"The mean coefficient for length across the 500 simulations is: \" + str(coef_df.loc[coef_only, \"Coef\"].mean()))"
   ]
  },
  {
   "cell_type": "markdown",
   "metadata": {},
   "source": [
    "### *Question*\n",
    "\n",
    "Look at the different values you got for the coefficient of length. We set the TRUE coefficient value to be 0.04, think about and describe how spread apart the estimates from our 500 regression models are. Does seeing how different our coefficient estimates can be *change* how you think about the coefficient estimates you get in regression models on real data?\n",
    "\n",
    "<img src=\"https://drive.google.com/uc?export=view&id=1ghyQPx1N8dmU3MV4TrANvqNhGwnLni72\" alt=\"Q\" style=\"width: 200px;\"/>"
   ]
  },
  {
   "cell_type": "markdown",
   "metadata": {},
   "source": [
    "### YOUR ANSWER HERE ###"
   ]
  },
  {
   "cell_type": "markdown",
   "metadata": {},
   "source": [
    "# 3. Fitting MORE Linear Regressions on Multiple Datasets\n",
    "\n",
    "This is your chance to play around with the different values in our simulation. Play around with these values to get a better understanding of how different values effect our linear regression output.\n",
    "\n",
    "### *Question*\n",
    "Here are some suggestions:\n",
    "\n",
    "* Change `n`, the number of data points in each sample, to be very small (say 10), how does this change the results you saw?\n",
    "* Change `n`, the number of data points in each sample, to be very large (say 1,000), how does this change the results you saw?\n",
    "* Change the `error_sd` term, this is a measure of how much error is in the model. More error means that data is scattered tightly around the regression line, less error means that the data is scatters very loosely around the regression line. How does changing  `error_sd` change the results you originally saw?\n",
    "\n",
    "<img src=\"https://drive.google.com/uc?export=view&id=1ghyQPx1N8dmU3MV4TrANvqNhGwnLni72\" alt=\"Q\" style=\"width: 200px;\"/>"
   ]
  },
  {
   "cell_type": "code",
   "execution_count": null,
   "metadata": {},
   "outputs": [],
   "source": [
    "#run regression simulation 500 times----\n",
    "\n",
    "#--- play around with these numbers-------\n",
    "n = 100\n",
    "trueCoef = 0.04\n",
    "intercept = intercept\n",
    "error_sd = 1\n",
    "#-----------------------------------------\n",
    "\n",
    "iWouldRun500More = [linearRegression(n = n, trueCoef = trueCoef, intercept = intercept, error_sd = error_sd) for x in range(0,500)]\n",
    "\n",
    "# grab coefficients from 500 simulations\n",
    "coef_df2 = pd.concat([x[\"coef\"] for x in iWouldRun500More])\n",
    "\n",
    "# grab coefficients from 500 simulations\n",
    "data_df2 = pd.concat([x[\"data\"] for x in iWouldRun500More])\n",
    "\n",
    "# number simulations 0:499\n",
    "data_df2[\"simulation_no\"] = sorted(list(range(0,500))*n)\n",
    "coef_df2[\"simulation_no\"] = sorted(list(range(0,500))*2)"
   ]
  },
  {
   "cell_type": "code",
   "execution_count": null,
   "metadata": {},
   "outputs": [],
   "source": [
    "# plot a few of the simulated data ----\n",
    "\n",
    "### YOUR CODE HERE ###"
   ]
  },
  {
   "cell_type": "code",
   "execution_count": null,
   "metadata": {},
   "outputs": [],
   "source": [
    "# plot the coefficients and EXPLORE! ----\n",
    "\n",
    "### YOUR CODE HERE ###"
   ]
  },
  {
   "cell_type": "markdown",
   "metadata": {},
   "source": [
    "### YOUR REFLECTIONS HERE ###"
   ]
  },
  {
   "cell_type": "markdown",
   "metadata": {},
   "source": [
    "### *Question*\n",
    "In prediction models, we often care most about the *accuracy* of the model. In Linear Regression we often measure that using the mean squared error. Using the `mean_squared_error()` function from sklean, and the other code in this notebook as an example, change the function `linearRegression()` below to calculate and store the mean squared error for each regression in a new dataframe, `mse`, and add it to the dictionary that the function returns. Then run the function 500 times, and plot a histogram of the mean squared errors. \n",
    "\n",
    "What does this histogram tell you about the accuracy of our models?\n",
    "\n",
    "<img src=\"https://drive.google.com/uc?export=view&id=1ghyQPx1N8dmU3MV4TrANvqNhGwnLni72\" alt=\"Q\" style=\"width: 200px;\"/>"
   ]
  },
  {
   "cell_type": "code",
   "execution_count": null,
   "metadata": {},
   "outputs": [],
   "source": [
    "def linearRegression(n = 100, trueCoef = 0.04, intercept = 0.2, error_sd = 1):\n",
    "    \n",
    "    # mean cat length in cm\n",
    "    mean_length_cm = 170\n",
    "    # standard deviation of cat length in cm\n",
    "    sd_length_cm = 15\n",
    "    \n",
    "    # generate random data for cat length that follows a normal distribution\n",
    "    length = np.random.normal(loc = mean_length_cm, scale = sd_length_cm, size = n)\n",
    "    \n",
    "    # weight = intercept + length*coefficient + random error\n",
    "    weight = intercept + length*true_coef + np.random.normal(0,error_sd,n)\n",
    "    \n",
    "    \n",
    "    cats = pd.DataFrame({\"length\": length, \"weight\": weight})\n",
    "    \n",
    "\n",
    "    features = [\"length\"]\n",
    "    X = cats[features]\n",
    "    y = cats[[\"weight\"]] #if you don't have the extra brackets, y will be a series instead of an array and throw an error\n",
    "\n",
    "    ##############################################\n",
    "    # run a linear regression\n",
    "    lr = pass\n",
    "\n",
    "    # fit the model\n",
    "\n",
    "    ##############################################\n",
    "    \n",
    "    ##### ADD MSE CODE HERE ######\n",
    "    mse = pass\n",
    "    ###############################\n",
    "\n",
    "    # grab the coefficients from the model and store them in a data frame\n",
    "    coef = pd.DataFrame({\"Coef\": lr.coef_[0], \"Names\": features})\n",
    "    coef = coef.append({\"Coef\": lr.intercept_[0], \"Names\": \"intercept\"}, ignore_index = True)\n",
    "    \n",
    "    ##############################################\n",
    "    return({\"coef\": coef, \"data\": cats, \"mse\": pass}) ##### DON'T FORGET to add the new mse data frame too! #####\n",
    "    ##############################################"
   ]
  },
  {
   "cell_type": "code",
   "execution_count": null,
   "metadata": {},
   "outputs": [],
   "source": [
    "# Run your new simulations-----\n",
    "\n",
    "iWouldRun500More2 = [linearRegression(n = n, trueCoef = trueCoef, intercept = intercept, error_sd = error_sd) for x in range(0,500)]\n",
    "\n",
    "# grab coefficients from 500 simulations\n",
    "coef_df3 = pd.concat([x[\"coef\"] for x in iWouldRun500More2])\n",
    "\n",
    "# grab coefficients from 500 simulations\n",
    "data_df3 = pd.concat([x[\"data\"] for x in iWouldRun500More2])\n",
    "\n",
    "# grab mse from 500 simulations\n",
    "mse_df3 = pd.concat([x[\"mse\"] for x in iWouldRun500More2])\n",
    "\n",
    "# number simulations 0:499\n",
    "data_df3[\"simulation_no\"] = sorted(list(range(0,500))*n)\n",
    "coef_df3[\"simulation_no\"] = sorted(list(range(0,500))*2)\n",
    "mses_df3[\"simulation_no\"] = list(range(0,500))"
   ]
  },
  {
   "cell_type": "code",
   "execution_count": null,
   "metadata": {},
   "outputs": [],
   "source": [
    "# plot newly calculated mses ----"
   ]
  },
  {
   "cell_type": "markdown",
   "metadata": {},
   "source": [
    "# 4. Interpreting Linear Regression Coefficients\n",
    "\n",
    "While sometimes we just want the predictions from a linear regression model, we often will be asked to interpret the coefficients as well.\n",
    "\n",
    "Use the table of coefficients you create below to answer the following questions.\n",
    "\n",
    "### *Question*\n",
    "\n",
    "* Do you think the assumption of linearity is valid for this model?\n",
    "* How will a 1 oz increase in weight change the predicted value for Amazon Price?\n",
    "* What does the intercept represent?\n",
    "* Using the values from the coefficient table, predict the Amazon Price for a book that has a list price of 15.99, a Weight of 4 oz, and 428 pages. Show your work using code.\n",
    "* If we took another random sample of Amazon books from the same population, how do you expect the coefficients from the model would/could change?\n",
    "\n",
    "<img src=\"https://drive.google.com/uc?export=view&id=1ghyQPx1N8dmU3MV4TrANvqNhGwnLni72\" alt=\"Q\" width = 200px/>"
   ]
  },
  {
   "cell_type": "code",
   "execution_count": null,
   "metadata": {},
   "outputs": [],
   "source": [
    "d = pd.read_table(\"https://raw.githubusercontent.com/cmparlettpelleriti/CPSC392ParlettPelleriti/master/Data/amazon-books.txt\")\n",
    "predictors = [\"List Price\", \"Weight (oz)\", \"NumPages\"]\n",
    "outcome = [\"Amazon Price\"]\n",
    "##############################################\n",
    "\n",
    "#get rid of missing values\n",
    "\n",
    "\n",
    "# z score predictors\n",
    "\n",
    "\n",
    "# create regression\n",
    "\n",
    "\n",
    "# fit model\n",
    "\n",
    "\n",
    "##############################################\n"
   ]
  },
  {
   "cell_type": "code",
   "execution_count": null,
   "metadata": {},
   "outputs": [],
   "source": [
    "##############################################\n",
    "# print out table of coefficients\n",
    "\n",
    "##############################################\n"
   ]
  },
  {
   "cell_type": "markdown",
   "metadata": {},
   "source": [
    "# BONUS (Optional). Violations of Linearity\n",
    "\n",
    "For some Optional data exploration, use the first cell (#nonLinReg) to simulate a dataset where the relationship between the predictor and the outcome are non-linear, meaning they violate the assumption of linearity. Use the second cell (#LinReg) to simulate a dataset where the relationship between the predictor and the outcome are linear. For both, create plots of 1) the predictor vs the outcome, 2) the predicted values vs the error and 3) a histogram of the errors.\n",
    "\n",
    "### *Question*\n",
    "\n",
    "* Compare patterns you see in the data that does *not* violate the assumption of linearity vs. the data that does. What's different?\n",
    "\n",
    "* What are some consequenses of violating the assumption of linearity?\n",
    "\n",
    "<img src=\"https://drive.google.com/uc?export=view&id=1ghyQPx1N8dmU3MV4TrANvqNhGwnLni72\" alt=\"Q\" width = 200px/>"
   ]
  },
  {
   "cell_type": "code",
   "execution_count": null,
   "metadata": {},
   "outputs": [],
   "source": [
    "#nonLinReg----------\n",
    "x = np.random.uniform(low = -2, high = 2, size = 100)\n",
    "y = 2 + np.exp(x) + np.random.normal(0,1,100)\n",
    "# y = 2 + exp(x) + random error\n",
    "\n",
    "df = pd.DataFrame({\"x\": x, \"y\": y})\n",
    "\n",
    "\n",
    "# regression model\n",
    "x = x.reshape(-1,1) #have to do this if there's only 1 predictor in the model\n",
    "\n",
    "nlr = LinearRegression()\n",
    "nlr.fit(x,y)\n",
    "\n",
    "pred = nlr.predict(x)\n",
    "\n",
    "df[\"pred\"] = pred #add to df\n",
    "\n",
    "df[\"error\"] = y - pred\n"
   ]
  },
  {
   "cell_type": "code",
   "execution_count": null,
   "metadata": {},
   "outputs": [],
   "source": [
    "#LinReg----------\n",
    "x2 = np.random.uniform(low = -2, high = 2, size = 100)\n",
    "y2 = 2 + 4.5*x2 + np.random.normal(0,1,100)\n",
    "\n",
    "# y = 2 + 4.5x + random error\n",
    "\n",
    "df2 = pd.DataFrame({\"x\": x2, \"y\": y2})\n",
    "\n",
    "\n",
    "# regression model\n",
    "x2 = x2.reshape(-1,1) #have to do this if there's only 1 predictor in the model\n",
    "\n",
    "lr2 = LinearRegression()\n",
    "lr2.fit(x2,y2)\n",
    "\n",
    "pred2 = lr2.predict(x2)\n",
    "\n",
    "df2[\"pred\"] = pred2 #add to df\n",
    "\n",
    "df2[\"error\"] = y2 - pred2\n"
   ]
  },
  {
   "cell_type": "code",
   "execution_count": null,
   "metadata": {},
   "outputs": [],
   "source": [
    "##############################################\n",
    "\n",
    "\n",
    "\n",
    "\n",
    "##############################################"
   ]
  }
 ],
 "metadata": {
  "kernelspec": {
   "display_name": "Python 3",
   "language": "python",
   "name": "python3"
  },
  "language_info": {
   "codemirror_mode": {
    "name": "ipython",
    "version": 3
   },
   "file_extension": ".py",
   "mimetype": "text/x-python",
   "name": "python",
   "nbconvert_exporter": "python",
   "pygments_lexer": "ipython3",
   "version": "3.8.1"
  }
 },
 "nbformat": 4,
 "nbformat_minor": 2
}
